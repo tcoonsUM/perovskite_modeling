{
 "cells": [
  {
   "cell_type": "code",
   "execution_count": 1,
   "id": "99701b03",
   "metadata": {},
   "outputs": [
    {
     "name": "stdout",
     "output_type": "stream",
     "text": [
      "import necessary tools\n",
      "Intel MKL WARNING: Support of Intel(R) Streaming SIMD Extensions 4.2 (Intel(R) SSE4.2) enabled only processors has been deprecated. Intel oneAPI Math Kernel Library 2025.0 will require Intel(R) Advanced Vector Extensions (Intel(R) AVX) instructions.\n",
      "Intel MKL WARNING: Support of Intel(R) Streaming SIMD Extensions 4.2 (Intel(R) SSE4.2) enabled only processors has been deprecated. Intel oneAPI Math Kernel Library 2025.0 will require Intel(R) Advanced Vector Extensions (Intel(R) AVX) instructions.\n"
     ]
    }
   ],
   "source": [
    "# %% import necessary tools\n",
    "print(\"import necessary tools\")\n",
    "import numpy as np\n",
    "import os\n",
    "os.environ['KMP_DUPLICATE_LIB_OK']='True'\n",
    "import matplotlib.pyplot as plt\n",
    "import math\n",
    "import torch\n",
    "import gpytorch\n",
    "import pandas as pd\n",
    "import tqdm as notebook_tqdm"
   ]
  },
  {
   "cell_type": "code",
   "execution_count": 4,
   "id": "f84c3672",
   "metadata": {},
   "outputs": [
    {
     "name": "stdout",
     "output_type": "stream",
     "text": [
      "import data\n"
     ]
    }
   ],
   "source": [
    "#%% import data\n",
    "print(\"import data\")\n",
    "nTrain = 50\n",
    "df = pd.read_csv('20230628_grainsize.csv')  \n",
    "df = df.sample(frac=1)\n",
    "#noises = df.loc[:,\"Stdev (%)\"]\n",
    "x = df.iloc[:,1:4]\n",
    "y = df.loc[:,\"Estimated Grain Size (nm)\"]\n",
    "x_train = torch.tensor(np.array(x)[:nTrain,:])\n",
    "y_train = torch.tensor(np.array(y)[:nTrain])\n",
    "#noises_train = torch.tensor(np.array(noises)[:nTrain])"
   ]
  },
  {
   "cell_type": "code",
   "execution_count": 5,
   "id": "96f9b9cb",
   "metadata": {},
   "outputs": [
    {
     "name": "stdout",
     "output_type": "stream",
     "text": [
      "torch.Size([50, 3])\n",
      "torch.Size([50])\n"
     ]
    }
   ],
   "source": [
    "#%% pre process data\n",
    "from sklearn import preprocessing\n",
    "\n",
    "# scale x training data per standard scaler to N(0,1)\n",
    "scaler = preprocessing.StandardScaler().fit(x_train)\n",
    "x_train = torch.tensor(scaler.transform(x_train))\n",
    "\n",
    "# apply log to y training data and then scale to N(0,1)\n",
    "y_train = torch.log(y_train)\n",
    "y_scaler = preprocessing.StandardScaler().fit(y_train.reshape(-1,1))\n",
    "y_train = torch.tensor(y_scaler.transform(y_train.reshape(-1,1))).squeeze()\n",
    "print(x_train.size())\n",
    "print(y_train.size())"
   ]
  },
  {
   "cell_type": "code",
   "execution_count": 6,
   "id": "ad330d92",
   "metadata": {},
   "outputs": [],
   "source": [
    "#%%\n",
    "class ExactGPModel(gpytorch.models.ExactGP):\n",
    "    def __init__(self, train_x, train_y, likelihood):\n",
    "        super(ExactGPModel, self).__init__(train_x, train_y, likelihood)\n",
    "        self.mean_module = gpytorch.means.ConstantMean()\n",
    "        self.covar_module = gpytorch.kernels.ScaleKernel(gpytorch.kernels.MaternKernel())\n",
    "        #self.covar_module = gpytorch.kernels.ScaleKernel(gpytorch.kernels.RBFKernel(ard_num_dims=3))\n",
    "\n",
    "    def forward(self, x):\n",
    "        mean_x = self.mean_module(x)\n",
    "        covar_x = self.covar_module(x)\n",
    "        return gpytorch.distributions.MultivariateNormal(mean_x, covar_x)\n",
    "\n",
    "# initialize likelihood and model\n",
    "likelihood = gpytorch.likelihoods.GaussianLikelihood()\n",
    "model = ExactGPModel(x_train, y_train, likelihood)"
   ]
  },
  {
   "cell_type": "code",
   "execution_count": 7,
   "id": "ff474ca2",
   "metadata": {},
   "outputs": [],
   "source": [
    "# %%\n",
    "model.train()\n",
    "likelihood.train()\n",
    "\n",
    "# Use the adam optimizer\n",
    "optimizer = torch.optim.Adam(model.parameters(), lr=0.5)  # Includes GaussianLikelihood parameters\n",
    "\n",
    "# \"Loss\" for GPs - the marginal log likelihood\n",
    "mll = gpytorch.mlls.ExactMarginalLogLikelihood(likelihood, model)"
   ]
  },
  {
   "cell_type": "code",
   "execution_count": 8,
   "id": "246f5047",
   "metadata": {},
   "outputs": [
    {
     "name": "stdout",
     "output_type": "stream",
     "text": [
      "Starting GP parameter tuning...\n",
      "Iter 1/200 - Loss: 1.158   lengthscale: 0.693\n",
      "Iter 21/200 - Loss: 0.880   lengthscale: 1.277\n",
      "Iter 41/200 - Loss: 0.879   lengthscale: 1.419\n",
      "Iter 61/200 - Loss: 0.878   lengthscale: 1.457\n",
      "Iter 81/200 - Loss: 0.878   lengthscale: 1.455\n",
      "Iter 101/200 - Loss: 0.878   lengthscale: 1.452\n",
      "Iter 121/200 - Loss: 0.878   lengthscale: 1.456\n",
      "Iter 141/200 - Loss: 0.878   lengthscale: 1.456\n",
      "Iter 161/200 - Loss: 0.878   lengthscale: 1.456\n",
      "Iter 181/200 - Loss: 0.878   lengthscale: 1.456\n"
     ]
    }
   ],
   "source": [
    "training_iter=200\n",
    "\n",
    "print('Starting GP parameter tuning...')\n",
    "for i in range(training_iter):\n",
    "    # Zero gradients from previous iteration\n",
    "    optimizer.zero_grad()\n",
    "    # Output from model\n",
    "    output = model(x_train)\n",
    "    # Calc loss and backprop gradients\n",
    "    loss = -mll(output, y_train)\n",
    "    loss.backward()\n",
    "    if np.mod(i,20)==0:\n",
    "        #print('Iter %d/%d - Loss: %.3f   lengthscale 1: %.3f   lengthscale 2: %.3f   lengthscale 3: %.3f' % (\n",
    "         #   i + 1, training_iter, loss.item(),\n",
    "          #  model.covar_module.base_kernel.lengthscale[0][0].item(),\n",
    "           # model.covar_module.base_kernel.lengthscale[0][1].item(),\n",
    "            #model.covar_module.base_kernel.lengthscale[0][1].item(),\n",
    "        #))\n",
    "        print('Iter %d/%d - Loss: %.3f   lengthscale: %.3f' % (\n",
    "            i + 1, training_iter, loss.item(),\n",
    "            model.covar_module.base_kernel.lengthscale.item()\n",
    "        ))\n",
    "    optimizer.step()"
   ]
  },
  {
   "cell_type": "code",
   "execution_count": 9,
   "id": "302aacda",
   "metadata": {},
   "outputs": [
    {
     "name": "stdout",
     "output_type": "stream",
     "text": [
      "tensor([ 6.9820e-01, -5.3040e-01, -2.2231e-01, -5.7709e-01, -7.7548e-01,\n",
      "        -1.4914e-01,  9.9772e-01,  6.0430e-01,  6.1940e-01, -9.4287e-01,\n",
      "        -3.7901e-01,  1.7341e+00, -3.8754e-01, -6.7928e-01,  6.0233e-01,\n",
      "        -1.0103e+00, -3.0853e-01, -5.3352e-01,  1.1046e+00,  2.0567e+00,\n",
      "         2.7858e-01, -1.9425e-02, -1.0991e+00,  2.7783e+00, -3.0196e-01,\n",
      "        -1.0176e+00, -3.6006e-01,  1.1713e+00, -1.3593e+00,  1.4639e+00,\n",
      "         1.5503e+00, -2.5136e-01,  2.2425e+00,  7.3281e-01,  2.2750e+00,\n",
      "         7.2692e-01, -3.1774e-01,  1.5433e+00,  2.1574e+00,  2.1543e+00,\n",
      "        -1.4113e+00, -5.3779e-01, -2.2953e-01, -1.9754e-01,  1.0547e+00,\n",
      "        -3.1050e-01, -7.3961e-01, -8.3989e-01, -2.1313e-01, -2.3125e-01,\n",
      "         2.5971e+00, -8.1687e-01, -1.2672e+00, -8.6190e-01, -4.6865e-01,\n",
      "         6.1261e-01,  2.5507e+00, -1.3612e+00,  9.7730e-01,  4.9653e-01,\n",
      "        -3.1780e-01, -2.3554e-01, -6.2950e-01,  1.1735e+00,  2.9279e+00,\n",
      "         1.8380e+00, -2.7332e-01, -2.1313e-01, -9.2142e-01, -1.8242e-02,\n",
      "        -9.4317e-01, -7.8889e-01,  1.2872e+00, -3.7050e-01, -4.3044e-01,\n",
      "        -1.3108e-01,  1.7337e+00, -4.5814e-01,  1.6892e-02, -8.8645e-01,\n",
      "         2.3943e+00,  3.7295e+00, -7.7500e-01, -9.5541e-02,  2.6480e+00,\n",
      "         3.7317e+00, -5.4009e-01, -4.7589e-01,  1.2116e+00, -3.0000e-01,\n",
      "        -1.0157e+00, -9.3335e-01,  1.9391e+00,  3.2501e-01, -7.9670e-01,\n",
      "        -6.2908e-01, -8.6742e-01, -5.3155e-01, -4.0864e-01, -6.5411e-01,\n",
      "        -6.3309e-02,  1.1055e+00, -1.3243e+00, -2.3348e-01, -4.9504e-01,\n",
      "         6.0628e-01, -6.4282e-01,  6.7600e-02,  2.7805e+00, -4.3920e-01,\n",
      "         1.1422e-01,  2.1670e+00,  1.3758e-01,  3.2241e+00,  2.4761e-03,\n",
      "         1.7635e+00, -4.3722e-01, -2.7140e-01,  1.2473e+00, -7.2730e-01,\n",
      "        -8.4139e-01,  1.5573e-02,  1.0593e+00, -1.5285e-01, -8.4319e-01,\n",
      "        -3.0577e-02,  7.7309e-01,  2.2832e+00,  2.0695e+00, -5.6714e-01,\n",
      "        -4.8395e-01, -8.7239e-01, -5.8172e-01,  7.1380e-01,  2.2829e+00,\n",
      "        -2.2953e-01, -1.1738e+00, -4.6799e-01,  1.8675e+00,  1.7117e+00,\n",
      "        -1.2249e-02,  2.6236e-01,  1.4588e+00,  1.5127e-01, -4.7523e-01,\n",
      "         2.0438e-01,  1.8794e+00, -5.6317e-01, -6.9572e-01],\n",
      "       dtype=torch.float64)\n"
     ]
    }
   ],
   "source": [
    "x_test = torch.tensor(np.array(x)[nTrain:,:])\n",
    "x_test = torch.tensor(scaler.transform(x_test))\n",
    "y_test = torch.log(torch.tensor(np.array(y)[nTrain:]))\n",
    "y_test = torch.tensor(y_scaler.transform(y_test.reshape(-1,1))).squeeze()\n",
    "print(y_test)"
   ]
  },
  {
   "cell_type": "code",
   "execution_count": 10,
   "id": "1491e4f6",
   "metadata": {},
   "outputs": [
    {
     "name": "stdout",
     "output_type": "stream",
     "text": [
      "tensor([ 1.1047, -0.4448, -0.4346, -0.7058, -0.9078, -0.3112,  0.8431, -0.3112,\n",
      "         1.1047, -0.4448, -0.4448,  0.8431, -0.4448, -0.9078,  1.1047, -0.7587,\n",
      "        -0.2736, -0.4448,  1.8376,  1.9464, -0.4346, -0.4448, -0.7058,  0.8431,\n",
      "        -0.4448, -0.9078, -0.3112,  1.8376, -0.7587,  1.8376,  1.9464, -0.3290,\n",
      "         1.8376,  1.1047,  0.8431,  1.1047, -0.9078,  0.8431,  1.9464,  1.9464,\n",
      "        -0.7587, -0.3290, -0.3025, -0.4346,  1.8376, -0.3112, -0.7058, -0.7058,\n",
      "        -0.4346, -0.3025,  1.8376, -0.9078, -0.9078, -0.7058, -0.2736, -0.4346,\n",
      "         1.9464, -0.4346,  1.8376,  1.1047, -0.7587, -0.3025, -0.3025,  1.1047,\n",
      "         1.9464,  1.8376, -0.3025, -0.3290, -0.3112, -0.4346, -0.7587, -0.7058,\n",
      "         1.8376, -0.3112, -0.3112, -0.3112,  1.8376, -0.4448, -0.4346, -0.4448,\n",
      "         0.8431,  0.8431, -0.7587, -0.7587,  0.8431,  0.8431, -0.2736, -0.2736,\n",
      "         1.9464, -0.4448, -0.9078, -0.4346,  0.8431, -0.3112, -0.7587, -0.4448,\n",
      "        -0.7058, -0.2736, -0.4346, -0.7058, -0.3112,  0.8431, -0.9078, -0.2736,\n",
      "        -0.3112,  1.1047, -0.9078, -0.2736,  0.8431, -0.2736, -0.3025,  1.9464,\n",
      "        -0.3112,  0.8431, -0.3025,  1.8376, -0.3290, -0.7587,  1.9464, -0.3290,\n",
      "        -0.7058, -0.3025,  1.1047, -0.3025, -0.7587, -0.9078,  1.8376,  1.9464,\n",
      "         1.8376, -0.2736, -0.3290, -0.7058, -0.7058,  1.1047,  1.9464, -0.2736,\n",
      "        -0.7058, -0.9078,  1.1047,  0.8431, -0.2736, -0.4346,  1.9464, -0.4346,\n",
      "        -0.2736, -0.3112,  1.9464, -0.3025, -0.9078], dtype=torch.float64)\n"
     ]
    }
   ],
   "source": [
    "model.eval()\n",
    "with torch.no_grad():\n",
    "    trained_pred_dist = likelihood(model(x_test))\n",
    "    predictive_mean = trained_pred_dist.mean\n",
    "    lower, upper = trained_pred_dist.confidence_region()\n",
    "print(predictive_mean)"
   ]
  },
  {
   "cell_type": "code",
   "execution_count": 12,
   "id": "ca1516b2",
   "metadata": {},
   "outputs": [
    {
     "name": "stdout",
     "output_type": "stream",
     "text": [
      "Intel MKL WARNING: Support of Intel(R) Streaming SIMD Extensions 4.2 (Intel(R) SSE4.2) enabled only processors has been deprecated. Intel oneAPI Math Kernel Library 2025.0 will require Intel(R) Advanced Vector Extensions (Intel(R) AVX) instructions.\n",
      "Intel MKL WARNING: Support of Intel(R) Streaming SIMD Extensions 4.2 (Intel(R) SSE4.2) enabled only processors has been deprecated. Intel oneAPI Math Kernel Library 2025.0 will require Intel(R) Advanced Vector Extensions (Intel(R) AVX) instructions.\n",
      "Intel MKL WARNING: Support of Intel(R) Streaming SIMD Extensions 4.2 (Intel(R) SSE4.2) enabled only processors has been deprecated. Intel oneAPI Math Kernel Library 2025.0 will require Intel(R) Advanced Vector Extensions (Intel(R) AVX) instructions.\n",
      "Intel MKL WARNING: Support of Intel(R) Streaming SIMD Extensions 4.2 (Intel(R) SSE4.2) enabled only processors has been deprecated. Intel oneAPI Math Kernel Library 2025.0 will require Intel(R) Advanced Vector Extensions (Intel(R) AVX) instructions.\n",
      "Intel MKL WARNING: Support of Intel(R) Streaming SIMD Extensions 4.2 (Intel(R) SSE4.2) enabled only processors has been deprecated. Intel oneAPI Math Kernel Library 2025.0 will require Intel(R) Advanced Vector Extensions (Intel(R) AVX) instructions.\n",
      "Intel MKL WARNING: Support of Intel(R) Streaming SIMD Extensions 4.2 (Intel(R) SSE4.2) enabled only processors has been deprecated. Intel oneAPI Math Kernel Library 2025.0 will require Intel(R) Advanced Vector Extensions (Intel(R) AVX) instructions.\n",
      "nTrained model NLPD: 0.78\n"
     ]
    }
   ],
   "source": [
    "final_nlpd = gpytorch.metrics.negative_log_predictive_density(trained_pred_dist, y_test)\n",
    "#corr = np.corrcoef(predictive_mean,y_train)[0,1]\n",
    "print(f'nTrained model NLPD: {final_nlpd:.2f}')\n",
    "#print('Mean predictions correlated: '+str(corr))"
   ]
  },
  {
   "cell_type": "code",
   "execution_count": 13,
   "id": "6800d3c6",
   "metadata": {},
   "outputs": [
    {
     "name": "stdout",
     "output_type": "stream",
     "text": [
      "tensor([ 6.9820e-01, -5.3040e-01, -2.2231e-01, -5.7709e-01, -7.7548e-01,\n",
      "        -1.4914e-01,  9.9772e-01,  6.0430e-01,  6.1940e-01, -9.4287e-01,\n",
      "        -3.7901e-01,  1.7341e+00, -3.8754e-01, -6.7928e-01,  6.0233e-01,\n",
      "        -1.0103e+00, -3.0853e-01, -5.3352e-01,  1.1046e+00,  2.0567e+00,\n",
      "         2.7858e-01, -1.9425e-02, -1.0991e+00,  2.7783e+00, -3.0196e-01,\n",
      "        -1.0176e+00, -3.6006e-01,  1.1713e+00, -1.3593e+00,  1.4639e+00,\n",
      "         1.5503e+00, -2.5136e-01,  2.2425e+00,  7.3281e-01,  2.2750e+00,\n",
      "         7.2692e-01, -3.1774e-01,  1.5433e+00,  2.1574e+00,  2.1543e+00,\n",
      "        -1.4113e+00, -5.3779e-01, -2.2953e-01, -1.9754e-01,  1.0547e+00,\n",
      "        -3.1050e-01, -7.3961e-01, -8.3989e-01, -2.1313e-01, -2.3125e-01,\n",
      "         2.5971e+00, -8.1687e-01, -1.2672e+00, -8.6190e-01, -4.6865e-01,\n",
      "         6.1261e-01,  2.5507e+00, -1.3612e+00,  9.7730e-01,  4.9653e-01,\n",
      "        -3.1780e-01, -2.3554e-01, -6.2950e-01,  1.1735e+00,  2.9279e+00,\n",
      "         1.8380e+00, -2.7332e-01, -2.1313e-01, -9.2142e-01, -1.8242e-02,\n",
      "        -9.4317e-01, -7.8889e-01,  1.2872e+00, -3.7050e-01, -4.3044e-01,\n",
      "        -1.3108e-01,  1.7337e+00, -4.5814e-01,  1.6892e-02, -8.8645e-01,\n",
      "         2.3943e+00,  3.7295e+00, -7.7500e-01, -9.5541e-02,  2.6480e+00,\n",
      "         3.7317e+00, -5.4009e-01, -4.7589e-01,  1.2116e+00, -3.0000e-01,\n",
      "        -1.0157e+00, -9.3335e-01,  1.9391e+00,  3.2501e-01, -7.9670e-01,\n",
      "        -6.2908e-01, -8.6742e-01, -5.3155e-01, -4.0864e-01, -6.5411e-01,\n",
      "        -6.3309e-02,  1.1055e+00, -1.3243e+00, -2.3348e-01, -4.9504e-01,\n",
      "         6.0628e-01, -6.4282e-01,  6.7600e-02,  2.7805e+00, -4.3920e-01,\n",
      "         1.1422e-01,  2.1670e+00,  1.3758e-01,  3.2241e+00,  2.4761e-03,\n",
      "         1.7635e+00, -4.3722e-01, -2.7140e-01,  1.2473e+00, -7.2730e-01,\n",
      "        -8.4139e-01,  1.5573e-02,  1.0593e+00, -1.5285e-01, -8.4319e-01,\n",
      "        -3.0577e-02,  7.7309e-01,  2.2832e+00,  2.0695e+00, -5.6714e-01,\n",
      "        -4.8395e-01, -8.7239e-01, -5.8172e-01,  7.1380e-01,  2.2829e+00,\n",
      "        -2.2953e-01, -1.1738e+00, -4.6799e-01,  1.8675e+00,  1.7117e+00,\n",
      "        -1.2249e-02,  2.6236e-01,  1.4588e+00,  1.5127e-01, -4.7523e-01,\n",
      "         2.0438e-01,  1.8794e+00, -5.6317e-01, -6.9572e-01],\n",
      "       dtype=torch.float64)\n",
      "tensor([ 1.1047, -0.4448, -0.4346, -0.7058, -0.9078, -0.3112,  0.8431, -0.3112,\n",
      "         1.1047, -0.4448, -0.4448,  0.8431, -0.4448, -0.9078,  1.1047, -0.7587,\n",
      "        -0.2736, -0.4448,  1.8376,  1.9464, -0.4346, -0.4448, -0.7058,  0.8431,\n",
      "        -0.4448, -0.9078, -0.3112,  1.8376, -0.7587,  1.8376,  1.9464, -0.3290,\n",
      "         1.8376,  1.1047,  0.8431,  1.1047, -0.9078,  0.8431,  1.9464,  1.9464,\n",
      "        -0.7587, -0.3290, -0.3025, -0.4346,  1.8376, -0.3112, -0.7058, -0.7058,\n",
      "        -0.4346, -0.3025,  1.8376, -0.9078, -0.9078, -0.7058, -0.2736, -0.4346,\n",
      "         1.9464, -0.4346,  1.8376,  1.1047, -0.7587, -0.3025, -0.3025,  1.1047,\n",
      "         1.9464,  1.8376, -0.3025, -0.3290, -0.3112, -0.4346, -0.7587, -0.7058,\n",
      "         1.8376, -0.3112, -0.3112, -0.3112,  1.8376, -0.4448, -0.4346, -0.4448,\n",
      "         0.8431,  0.8431, -0.7587, -0.7587,  0.8431,  0.8431, -0.2736, -0.2736,\n",
      "         1.9464, -0.4448, -0.9078, -0.4346,  0.8431, -0.3112, -0.7587, -0.4448,\n",
      "        -0.7058, -0.2736, -0.4346, -0.7058, -0.3112,  0.8431, -0.9078, -0.2736,\n",
      "        -0.3112,  1.1047, -0.9078, -0.2736,  0.8431, -0.2736, -0.3025,  1.9464,\n",
      "        -0.3112,  0.8431, -0.3025,  1.8376, -0.3290, -0.7587,  1.9464, -0.3290,\n",
      "        -0.7058, -0.3025,  1.1047, -0.3025, -0.7587, -0.9078,  1.8376,  1.9464,\n",
      "         1.8376, -0.2736, -0.3290, -0.7058, -0.7058,  1.1047,  1.9464, -0.2736,\n",
      "        -0.7058, -0.9078,  1.1047,  0.8431, -0.2736, -0.4346,  1.9464, -0.4346,\n",
      "        -0.2736, -0.3112,  1.9464, -0.3025, -0.9078], dtype=torch.float64)\n",
      "tensor([ 0.2304, -1.3188, -1.3232, -1.5956, -1.8230, -1.2271, -0.1204, -1.2271,\n",
      "         0.2304, -1.3188, -1.3188, -0.1204, -1.3188, -1.8230,  0.2304, -1.6215,\n",
      "        -1.1635, -1.3188,  0.9212,  1.0300, -1.3232, -1.3188, -1.5956, -0.1204,\n",
      "        -1.3188, -1.8230, -1.2271,  0.9212, -1.6215,  0.9212,  1.0300, -1.2912,\n",
      "         0.9212,  0.2304, -0.1204,  0.2304, -1.8230, -0.1204,  1.0300,  1.0300,\n",
      "        -1.6215, -1.2912, -1.1652, -1.3232,  0.9212, -1.2271, -1.5956, -1.5956,\n",
      "        -1.3232, -1.1652,  0.9212, -1.8230, -1.8230, -1.5956, -1.1635, -1.3232,\n",
      "         1.0300, -1.3232,  0.9212,  0.2304, -1.6215, -1.1652, -1.1652,  0.2304,\n",
      "         1.0300,  0.9212, -1.1652, -1.2912, -1.2271, -1.3232, -1.6215, -1.5956,\n",
      "         0.9212, -1.2271, -1.2271, -1.2271,  0.9212, -1.3188, -1.3232, -1.3188,\n",
      "        -0.1204, -0.1204, -1.6215, -1.6215, -0.1204, -0.1204, -1.1635, -1.1635,\n",
      "         1.0300, -1.3188, -1.8230, -1.3232, -0.1204, -1.2271, -1.6215, -1.3188,\n",
      "        -1.5956, -1.1635, -1.3232, -1.5956, -1.2271, -0.1204, -1.8230, -1.1635,\n",
      "        -1.2271,  0.2304, -1.8230, -1.1635, -0.1204, -1.1635, -1.1652,  1.0300,\n",
      "        -1.2271, -0.1204, -1.1652,  0.9212, -1.2912, -1.6215,  1.0300, -1.2912,\n",
      "        -1.5956, -1.1652,  0.2304, -1.1652, -1.6215, -1.8230,  0.9212,  1.0300,\n",
      "         0.9212, -1.1635, -1.2912, -1.5956, -1.5956,  0.2304,  1.0300, -1.1635,\n",
      "        -1.5956, -1.8230,  0.2304, -0.1204, -1.1635, -1.3232,  1.0300, -1.3232,\n",
      "        -1.1635, -1.2271,  1.0300, -1.1652, -1.8230], dtype=torch.float64)\n",
      "tensor([1.9790, 0.4293, 0.4540, 0.1840, 0.0074, 0.6046, 1.8067, 0.6046, 1.9790,\n",
      "        0.4293, 0.4293, 1.8067, 0.4293, 0.0074, 1.9790, 0.1041, 0.6164, 0.4293,\n",
      "        2.7541, 2.8629, 0.4540, 0.4293, 0.1840, 1.8067, 0.4293, 0.0074, 0.6046,\n",
      "        2.7541, 0.1041, 2.7541, 2.8629, 0.6331, 2.7541, 1.9790, 1.8067, 1.9790,\n",
      "        0.0074, 1.8067, 2.8629, 2.8629, 0.1041, 0.6331, 0.5602, 0.4540, 2.7541,\n",
      "        0.6046, 0.1840, 0.1840, 0.4540, 0.5602, 2.7541, 0.0074, 0.0074, 0.1840,\n",
      "        0.6164, 0.4540, 2.8629, 0.4540, 2.7541, 1.9790, 0.1041, 0.5602, 0.5602,\n",
      "        1.9790, 2.8629, 2.7541, 0.5602, 0.6331, 0.6046, 0.4540, 0.1041, 0.1840,\n",
      "        2.7541, 0.6046, 0.6046, 0.6046, 2.7541, 0.4293, 0.4540, 0.4293, 1.8067,\n",
      "        1.8067, 0.1041, 0.1041, 1.8067, 1.8067, 0.6164, 0.6164, 2.8629, 0.4293,\n",
      "        0.0074, 0.4540, 1.8067, 0.6046, 0.1041, 0.4293, 0.1840, 0.6164, 0.4540,\n",
      "        0.1840, 0.6046, 1.8067, 0.0074, 0.6164, 0.6046, 1.9790, 0.0074, 0.6164,\n",
      "        1.8067, 0.6164, 0.5602, 2.8629, 0.6046, 1.8067, 0.5602, 2.7541, 0.6331,\n",
      "        0.1041, 2.8629, 0.6331, 0.1840, 0.5602, 1.9790, 0.5602, 0.1041, 0.0074,\n",
      "        2.7541, 2.8629, 2.7541, 0.6164, 0.6331, 0.1840, 0.1840, 1.9790, 2.8629,\n",
      "        0.6164, 0.1840, 0.0074, 1.9790, 1.8067, 0.6164, 0.4540, 2.8629, 0.4540,\n",
      "        0.6164, 0.6046, 2.8629, 0.5602, 0.0074], dtype=torch.float64)\n"
     ]
    }
   ],
   "source": [
    "print(y_test)\n",
    "print(predictive_mean)\n",
    "print(lower)\n",
    "print(upper)"
   ]
  },
  {
   "cell_type": "code",
   "execution_count": 14,
   "id": "5b451ef1",
   "metadata": {},
   "outputs": [
    {
     "ename": "ValueError",
     "evalue": "x and y must have same first dimension, but have shapes (50,) and torch.Size([149])",
     "output_type": "error",
     "traceback": [
      "\u001b[0;31m---------------------------------------------------------------------------\u001b[0m",
      "\u001b[0;31mValueError\u001b[0m                                Traceback (most recent call last)",
      "Cell \u001b[0;32mIn[14], line 4\u001b[0m\n\u001b[1;32m      2\u001b[0m testInds \u001b[39m=\u001b[39m np\u001b[39m.\u001b[39mlinspace(\u001b[39m0\u001b[39m,\u001b[39mint\u001b[39m(test_size))\n\u001b[1;32m      3\u001b[0m plt\u001b[39m.\u001b[39mfigure()\n\u001b[0;32m----> 4\u001b[0m plt\u001b[39m.\u001b[39;49mplot(testInds,y_test,\u001b[39m'\u001b[39;49m\u001b[39mo\u001b[39;49m\u001b[39m'\u001b[39;49m,label \u001b[39m=\u001b[39;49m \u001b[39m'\u001b[39;49m\u001b[39mtraining data\u001b[39;49m\u001b[39m'\u001b[39;49m)\n\u001b[1;32m      5\u001b[0m plt\u001b[39m.\u001b[39mplot(testInds,predictive_mean,\u001b[39m'\u001b[39m\u001b[39mx\u001b[39m\u001b[39m'\u001b[39m,label\u001b[39m=\u001b[39m\u001b[39m'\u001b[39m\u001b[39mpredicted mean\u001b[39m\u001b[39m'\u001b[39m)\n\u001b[1;32m      6\u001b[0m plt\u001b[39m.\u001b[39mplot(testInds,lower,\u001b[39m'\u001b[39m\u001b[39m-\u001b[39m\u001b[39m'\u001b[39m,label \u001b[39m=\u001b[39m \u001b[39m'\u001b[39m\u001b[39mlower confidence interval\u001b[39m\u001b[39m'\u001b[39m)\n",
      "File \u001b[0;32m~/opt/anaconda3/lib/python3.9/site-packages/matplotlib/pyplot.py:2812\u001b[0m, in \u001b[0;36mplot\u001b[0;34m(scalex, scaley, data, *args, **kwargs)\u001b[0m\n\u001b[1;32m   2810\u001b[0m \u001b[39m@_copy_docstring_and_deprecators\u001b[39m(Axes\u001b[39m.\u001b[39mplot)\n\u001b[1;32m   2811\u001b[0m \u001b[39mdef\u001b[39;00m \u001b[39mplot\u001b[39m(\u001b[39m*\u001b[39margs, scalex\u001b[39m=\u001b[39m\u001b[39mTrue\u001b[39;00m, scaley\u001b[39m=\u001b[39m\u001b[39mTrue\u001b[39;00m, data\u001b[39m=\u001b[39m\u001b[39mNone\u001b[39;00m, \u001b[39m*\u001b[39m\u001b[39m*\u001b[39mkwargs):\n\u001b[0;32m-> 2812\u001b[0m     \u001b[39mreturn\u001b[39;00m gca()\u001b[39m.\u001b[39;49mplot(\n\u001b[1;32m   2813\u001b[0m         \u001b[39m*\u001b[39;49margs, scalex\u001b[39m=\u001b[39;49mscalex, scaley\u001b[39m=\u001b[39;49mscaley,\n\u001b[1;32m   2814\u001b[0m         \u001b[39m*\u001b[39;49m\u001b[39m*\u001b[39;49m({\u001b[39m\"\u001b[39;49m\u001b[39mdata\u001b[39;49m\u001b[39m\"\u001b[39;49m: data} \u001b[39mif\u001b[39;49;00m data \u001b[39mis\u001b[39;49;00m \u001b[39mnot\u001b[39;49;00m \u001b[39mNone\u001b[39;49;00m \u001b[39melse\u001b[39;49;00m {}), \u001b[39m*\u001b[39;49m\u001b[39m*\u001b[39;49mkwargs)\n",
      "File \u001b[0;32m~/opt/anaconda3/lib/python3.9/site-packages/matplotlib/axes/_axes.py:1688\u001b[0m, in \u001b[0;36mAxes.plot\u001b[0;34m(self, scalex, scaley, data, *args, **kwargs)\u001b[0m\n\u001b[1;32m   1445\u001b[0m \u001b[39m\u001b[39m\u001b[39m\"\"\"\u001b[39;00m\n\u001b[1;32m   1446\u001b[0m \u001b[39mPlot y versus x as lines and/or markers.\u001b[39;00m\n\u001b[1;32m   1447\u001b[0m \n\u001b[0;32m   (...)\u001b[0m\n\u001b[1;32m   1685\u001b[0m \u001b[39m(``'green'``) or hex strings (``'#008000'``).\u001b[39;00m\n\u001b[1;32m   1686\u001b[0m \u001b[39m\"\"\"\u001b[39;00m\n\u001b[1;32m   1687\u001b[0m kwargs \u001b[39m=\u001b[39m cbook\u001b[39m.\u001b[39mnormalize_kwargs(kwargs, mlines\u001b[39m.\u001b[39mLine2D)\n\u001b[0;32m-> 1688\u001b[0m lines \u001b[39m=\u001b[39m [\u001b[39m*\u001b[39m\u001b[39mself\u001b[39m\u001b[39m.\u001b[39m_get_lines(\u001b[39m*\u001b[39margs, data\u001b[39m=\u001b[39mdata, \u001b[39m*\u001b[39m\u001b[39m*\u001b[39mkwargs)]\n\u001b[1;32m   1689\u001b[0m \u001b[39mfor\u001b[39;00m line \u001b[39min\u001b[39;00m lines:\n\u001b[1;32m   1690\u001b[0m     \u001b[39mself\u001b[39m\u001b[39m.\u001b[39madd_line(line)\n",
      "File \u001b[0;32m~/opt/anaconda3/lib/python3.9/site-packages/matplotlib/axes/_base.py:311\u001b[0m, in \u001b[0;36m_process_plot_var_args.__call__\u001b[0;34m(self, data, *args, **kwargs)\u001b[0m\n\u001b[1;32m    309\u001b[0m     this \u001b[39m+\u001b[39m\u001b[39m=\u001b[39m args[\u001b[39m0\u001b[39m],\n\u001b[1;32m    310\u001b[0m     args \u001b[39m=\u001b[39m args[\u001b[39m1\u001b[39m:]\n\u001b[0;32m--> 311\u001b[0m \u001b[39myield from\u001b[39;00m \u001b[39mself\u001b[39;49m\u001b[39m.\u001b[39;49m_plot_args(\n\u001b[1;32m    312\u001b[0m     this, kwargs, ambiguous_fmt_datakey\u001b[39m=\u001b[39;49mambiguous_fmt_datakey)\n",
      "File \u001b[0;32m~/opt/anaconda3/lib/python3.9/site-packages/matplotlib/axes/_base.py:504\u001b[0m, in \u001b[0;36m_process_plot_var_args._plot_args\u001b[0;34m(self, tup, kwargs, return_kwargs, ambiguous_fmt_datakey)\u001b[0m\n\u001b[1;32m    501\u001b[0m     \u001b[39mself\u001b[39m\u001b[39m.\u001b[39maxes\u001b[39m.\u001b[39myaxis\u001b[39m.\u001b[39mupdate_units(y)\n\u001b[1;32m    503\u001b[0m \u001b[39mif\u001b[39;00m x\u001b[39m.\u001b[39mshape[\u001b[39m0\u001b[39m] \u001b[39m!=\u001b[39m y\u001b[39m.\u001b[39mshape[\u001b[39m0\u001b[39m]:\n\u001b[0;32m--> 504\u001b[0m     \u001b[39mraise\u001b[39;00m \u001b[39mValueError\u001b[39;00m(\u001b[39mf\u001b[39m\u001b[39m\"\u001b[39m\u001b[39mx and y must have same first dimension, but \u001b[39m\u001b[39m\"\u001b[39m\n\u001b[1;32m    505\u001b[0m                      \u001b[39mf\u001b[39m\u001b[39m\"\u001b[39m\u001b[39mhave shapes \u001b[39m\u001b[39m{\u001b[39;00mx\u001b[39m.\u001b[39mshape\u001b[39m}\u001b[39;00m\u001b[39m and \u001b[39m\u001b[39m{\u001b[39;00my\u001b[39m.\u001b[39mshape\u001b[39m}\u001b[39;00m\u001b[39m\"\u001b[39m)\n\u001b[1;32m    506\u001b[0m \u001b[39mif\u001b[39;00m x\u001b[39m.\u001b[39mndim \u001b[39m>\u001b[39m \u001b[39m2\u001b[39m \u001b[39mor\u001b[39;00m y\u001b[39m.\u001b[39mndim \u001b[39m>\u001b[39m \u001b[39m2\u001b[39m:\n\u001b[1;32m    507\u001b[0m     \u001b[39mraise\u001b[39;00m \u001b[39mValueError\u001b[39;00m(\u001b[39mf\u001b[39m\u001b[39m\"\u001b[39m\u001b[39mx and y can be no greater than 2D, but have \u001b[39m\u001b[39m\"\u001b[39m\n\u001b[1;32m    508\u001b[0m                      \u001b[39mf\u001b[39m\u001b[39m\"\u001b[39m\u001b[39mshapes \u001b[39m\u001b[39m{\u001b[39;00mx\u001b[39m.\u001b[39mshape\u001b[39m}\u001b[39;00m\u001b[39m and \u001b[39m\u001b[39m{\u001b[39;00my\u001b[39m.\u001b[39mshape\u001b[39m}\u001b[39;00m\u001b[39m\"\u001b[39m)\n",
      "\u001b[0;31mValueError\u001b[0m: x and y must have same first dimension, but have shapes (50,) and torch.Size([149])"
     ]
    },
    {
     "data": {
      "image/png": "[encoded data removed]",
      "text/plain": [
       "<Figure size 640x480 with 1 Axes>"
      ]
     },
     "metadata": {},
     "output_type": "display_data"
    }
   ],
   "source": [
    "test_size=y_test.size(dim=0)\n",
    "testInds = np.linspace(0,int(test_size))\n",
    "plt.figure()\n",
    "plt.plot(testInds,y_test,'o',label = 'training data')\n",
    "plt.plot(testInds,predictive_mean,'x',label='predicted mean')\n",
    "plt.plot(testInds,lower,'-',label = 'lower confidence interval')\n",
    "plt.plot(testInds,upper,'-',label = 'upper confidence interval')\n",
    "plt.legend()"
   ]
  },
  {
   "cell_type": "code",
   "execution_count": 13,
   "id": "8c708884",
   "metadata": {},
   "outputs": [
    {
     "data": {
      "image/png": "[encoded data removed]",
      "text/plain": [
       "<Figure size 500x500 with 1 Axes>"
      ]
     },
     "metadata": {},
     "output_type": "display_data"
    }
   ],
   "source": [
    "plt.figure(figsize=(5,5))\n",
    "plt.scatter(y_test, predictive_mean, c='crimson')\n",
    "plt.yscale('log')\n",
    "plt.xscale('log')\n",
    "\n",
    "p1 = max(max(predictive_mean), max(y_test))\n",
    "p2 = min(min(predictive_mean), min(y_test))\n",
    "plt.plot([p1, p2], [p1, p2], 'b-')\n",
    "plt.xlabel('True Values', fontsize=15)\n",
    "plt.ylabel('Predictions', fontsize=15)\n",
    "plt.axis('equal')\n",
    "plt.show()"
   ]
  },
  {
   "cell_type": "code",
   "execution_count": 116,
   "id": "0195e7f9",
   "metadata": {},
   "outputs": [
    {
     "name": "stdout",
     "output_type": "stream",
     "text": [
      "tensor(0.6931, grad_fn=<SelectBackward0>)\n"
     ]
    }
   ],
   "source": []
  },
  {
   "cell_type": "code",
   "execution_count": 125,
   "id": "654e9f77",
   "metadata": {},
   "outputs": [
    {
     "ename": "IndexError",
     "evalue": "invalid index of a 0-dim tensor. Use `tensor.item()` in Python or `tensor.item<T>()` in C++ to convert a 0-dim tensor to a number",
     "output_type": "error",
     "traceback": [
      "\u001b[0;31m---------------------------------------------------------------------------\u001b[0m",
      "\u001b[0;31mIndexError\u001b[0m                                Traceback (most recent call last)",
      "\u001b[0;32m/var/folders/2s/v7k94jxx485g3_436vqk_zj80000gr/T/ipykernel_30538/1702448578.py\u001b[0m in \u001b[0;36m<module>\u001b[0;34m\u001b[0m\n\u001b[1;32m      1\u001b[0m \u001b[0;32mfor\u001b[0m \u001b[0mparam_name\u001b[0m\u001b[0;34m,\u001b[0m \u001b[0mparam\u001b[0m \u001b[0;32min\u001b[0m \u001b[0mmodel\u001b[0m\u001b[0;34m.\u001b[0m\u001b[0mnamed_parameters\u001b[0m\u001b[0;34m(\u001b[0m\u001b[0;34m)\u001b[0m\u001b[0;34m:\u001b[0m\u001b[0;34m\u001b[0m\u001b[0;34m\u001b[0m\u001b[0m\n\u001b[0;32m----> 2\u001b[0;31m     \u001b[0mprint\u001b[0m\u001b[0;34m(\u001b[0m\u001b[0;34mf'Parameter name: {param_name:42} value = {param[0][0].item()}'\u001b[0m\u001b[0;34m)\u001b[0m\u001b[0;34m\u001b[0m\u001b[0;34m\u001b[0m\u001b[0m\n\u001b[0m",
      "\u001b[0;31mIndexError\u001b[0m: invalid index of a 0-dim tensor. Use `tensor.item()` in Python or `tensor.item<T>()` in C++ to convert a 0-dim tensor to a number"
     ]
    }
   ],
   "source": []
  },
  {
   "cell_type": "code",
   "execution_count": null,
   "id": "4e531f3e",
   "metadata": {},
   "outputs": [],
   "source": []
  }
 ],
 "metadata": {
  "kernelspec": {
   "display_name": "Python 3 (ipykernel)",
   "language": "python",
   "name": "python3"
  },
  "language_info": {
   "codemirror_mode": {
    "name": "ipython",
    "version": 3
   },
   "file_extension": ".py",
   "mimetype": "text/x-python",
   "name": "python",
   "nbconvert_exporter": "python",
   "pygments_lexer": "ipython3",
   "version": "3.9.17"
  }
 },
 "nbformat": 4,
 "nbformat_minor": 5
}
